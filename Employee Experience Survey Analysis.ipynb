{
 "cells": [
  {
   "cell_type": "code",
   "execution_count": 1,
   "id": "b3fc7c6e",
   "metadata": {},
   "outputs": [],
   "source": [
    "import numpy as np\n",
    "import pandas as pd"
   ]
  },
  {
   "cell_type": "code",
   "execution_count": 2,
   "id": "84b19032",
   "metadata": {},
   "outputs": [],
   "source": [
    "data = pd.read_csv('employee_experience_survey_data.csv')"
   ]
  },
  {
   "cell_type": "code",
   "execution_count": 3,
   "id": "74553e94",
   "metadata": {},
   "outputs": [
    {
     "data": {
      "text/html": [
       "<div>\n",
       "<style scoped>\n",
       "    .dataframe tbody tr th:only-of-type {\n",
       "        vertical-align: middle;\n",
       "    }\n",
       "\n",
       "    .dataframe tbody tr th {\n",
       "        vertical-align: top;\n",
       "    }\n",
       "\n",
       "    .dataframe thead th {\n",
       "        text-align: right;\n",
       "    }\n",
       "</style>\n",
       "<table border=\"1\" class=\"dataframe\">\n",
       "  <thead>\n",
       "    <tr style=\"text-align: right;\">\n",
       "      <th></th>\n",
       "      <th>Name</th>\n",
       "      <th>Age Bracket</th>\n",
       "      <th>Gender</th>\n",
       "      <th>Ethnicity</th>\n",
       "      <th>Job Title</th>\n",
       "      <th>Department</th>\n",
       "      <th>Date Survey Completed</th>\n",
       "      <th>Job Satisfaction</th>\n",
       "      <th>Work-Life Balance</th>\n",
       "      <th>Management Support</th>\n",
       "      <th>Team Collaboration</th>\n",
       "      <th>Workload Fairness</th>\n",
       "      <th>Career Development Opportunities</th>\n",
       "      <th>Workplace Inclusivity</th>\n",
       "      <th>Company Communication</th>\n",
       "      <th>Compensation Satisfaction</th>\n",
       "      <th>Job Security</th>\n",
       "      <th>Overall Engagement</th>\n",
       "    </tr>\n",
       "  </thead>\n",
       "  <tbody>\n",
       "    <tr>\n",
       "      <th>0</th>\n",
       "      <td>John Doe</td>\n",
       "      <td>25-34</td>\n",
       "      <td>Female</td>\n",
       "      <td>Asian</td>\n",
       "      <td>Product Manager</td>\n",
       "      <td>Product Development</td>\n",
       "      <td>2024-10-05</td>\n",
       "      <td>Disagree</td>\n",
       "      <td>Strongly Agree</td>\n",
       "      <td>Neutral</td>\n",
       "      <td>Neutral</td>\n",
       "      <td>Neutral</td>\n",
       "      <td>Disagree</td>\n",
       "      <td>Agree</td>\n",
       "      <td>Strongly Agree</td>\n",
       "      <td>Strongly Agree</td>\n",
       "      <td>Agree</td>\n",
       "      <td>Strongly Agree</td>\n",
       "    </tr>\n",
       "    <tr>\n",
       "      <th>1</th>\n",
       "      <td>Jane Smith</td>\n",
       "      <td>18-24</td>\n",
       "      <td>Female</td>\n",
       "      <td>Middle Eastern</td>\n",
       "      <td>Operations Manager</td>\n",
       "      <td>Sales</td>\n",
       "      <td>2024-10-07</td>\n",
       "      <td>Agree</td>\n",
       "      <td>Strongly Disagree</td>\n",
       "      <td>Strongly Agree</td>\n",
       "      <td>Neutral</td>\n",
       "      <td>Neutral</td>\n",
       "      <td>Disagree</td>\n",
       "      <td>Neutral</td>\n",
       "      <td>Neutral</td>\n",
       "      <td>Neutral</td>\n",
       "      <td>Agree</td>\n",
       "      <td>Neutral</td>\n",
       "    </tr>\n",
       "    <tr>\n",
       "      <th>2</th>\n",
       "      <td>Carlos Reyes</td>\n",
       "      <td>45-54</td>\n",
       "      <td>Female</td>\n",
       "      <td>Indian</td>\n",
       "      <td>UX Designer</td>\n",
       "      <td>Consulting</td>\n",
       "      <td>2024-10-08</td>\n",
       "      <td>Neutral</td>\n",
       "      <td>Strongly Disagree</td>\n",
       "      <td>Agree</td>\n",
       "      <td>Disagree</td>\n",
       "      <td>Strongly Agree</td>\n",
       "      <td>Agree</td>\n",
       "      <td>Agree</td>\n",
       "      <td>Strongly Disagree</td>\n",
       "      <td>Neutral</td>\n",
       "      <td>Strongly Agree</td>\n",
       "      <td>Strongly Agree</td>\n",
       "    </tr>\n",
       "    <tr>\n",
       "      <th>3</th>\n",
       "      <td>Emily Zhang</td>\n",
       "      <td>35-44</td>\n",
       "      <td>Male</td>\n",
       "      <td>Caucasian</td>\n",
       "      <td>UX Designer</td>\n",
       "      <td>HR</td>\n",
       "      <td>2024-10-07</td>\n",
       "      <td>Neutral</td>\n",
       "      <td>Agree</td>\n",
       "      <td>Agree</td>\n",
       "      <td>Strongly Disagree</td>\n",
       "      <td>Strongly Disagree</td>\n",
       "      <td>Strongly Agree</td>\n",
       "      <td>Agree</td>\n",
       "      <td>Strongly Disagree</td>\n",
       "      <td>Strongly Disagree</td>\n",
       "      <td>Agree</td>\n",
       "      <td>Neutral</td>\n",
       "    </tr>\n",
       "    <tr>\n",
       "      <th>4</th>\n",
       "      <td>Michael Johnson</td>\n",
       "      <td>18-24</td>\n",
       "      <td>Female</td>\n",
       "      <td>Caucasian</td>\n",
       "      <td>UX Designer</td>\n",
       "      <td>Product Development</td>\n",
       "      <td>2024-10-07</td>\n",
       "      <td>Agree</td>\n",
       "      <td>Strongly Agree</td>\n",
       "      <td>Disagree</td>\n",
       "      <td>Neutral</td>\n",
       "      <td>Strongly Disagree</td>\n",
       "      <td>Disagree</td>\n",
       "      <td>Disagree</td>\n",
       "      <td>Disagree</td>\n",
       "      <td>Strongly Disagree</td>\n",
       "      <td>Neutral</td>\n",
       "      <td>Disagree</td>\n",
       "    </tr>\n",
       "  </tbody>\n",
       "</table>\n",
       "</div>"
      ],
      "text/plain": [
       "              Name Age Bracket  Gender       Ethnicity           Job Title  \\\n",
       "0         John Doe       25-34  Female           Asian     Product Manager   \n",
       "1       Jane Smith       18-24  Female  Middle Eastern  Operations Manager   \n",
       "2     Carlos Reyes       45-54  Female          Indian         UX Designer   \n",
       "3      Emily Zhang       35-44    Male       Caucasian         UX Designer   \n",
       "4  Michael Johnson       18-24  Female       Caucasian         UX Designer   \n",
       "\n",
       "            Department Date Survey Completed Job Satisfaction  \\\n",
       "0  Product Development            2024-10-05         Disagree   \n",
       "1                Sales            2024-10-07            Agree   \n",
       "2           Consulting            2024-10-08          Neutral   \n",
       "3                   HR            2024-10-07          Neutral   \n",
       "4  Product Development            2024-10-07            Agree   \n",
       "\n",
       "   Work-Life Balance Management Support Team Collaboration  Workload Fairness  \\\n",
       "0     Strongly Agree            Neutral            Neutral            Neutral   \n",
       "1  Strongly Disagree     Strongly Agree            Neutral            Neutral   \n",
       "2  Strongly Disagree              Agree           Disagree     Strongly Agree   \n",
       "3              Agree              Agree  Strongly Disagree  Strongly Disagree   \n",
       "4     Strongly Agree           Disagree            Neutral  Strongly Disagree   \n",
       "\n",
       "  Career Development Opportunities Workplace Inclusivity  \\\n",
       "0                         Disagree                 Agree   \n",
       "1                         Disagree               Neutral   \n",
       "2                            Agree                 Agree   \n",
       "3                   Strongly Agree                 Agree   \n",
       "4                         Disagree              Disagree   \n",
       "\n",
       "  Company Communication Compensation Satisfaction    Job Security  \\\n",
       "0        Strongly Agree            Strongly Agree           Agree   \n",
       "1               Neutral                   Neutral           Agree   \n",
       "2     Strongly Disagree                   Neutral  Strongly Agree   \n",
       "3     Strongly Disagree         Strongly Disagree           Agree   \n",
       "4              Disagree         Strongly Disagree         Neutral   \n",
       "\n",
       "  Overall Engagement  \n",
       "0     Strongly Agree  \n",
       "1            Neutral  \n",
       "2     Strongly Agree  \n",
       "3            Neutral  \n",
       "4           Disagree  "
      ]
     },
     "execution_count": 3,
     "metadata": {},
     "output_type": "execute_result"
    }
   ],
   "source": [
    "data.head()"
   ]
  },
  {
   "cell_type": "code",
   "execution_count": 4,
   "id": "336a5667",
   "metadata": {},
   "outputs": [
    {
     "name": "stdout",
     "output_type": "stream",
     "text": [
      "<class 'pandas.core.frame.DataFrame'>\n",
      "RangeIndex: 15 entries, 0 to 14\n",
      "Data columns (total 18 columns):\n",
      " #   Column                            Non-Null Count  Dtype \n",
      "---  ------                            --------------  ----- \n",
      " 0   Name                              15 non-null     object\n",
      " 1   Age Bracket                       15 non-null     object\n",
      " 2   Gender                            15 non-null     object\n",
      " 3   Ethnicity                         15 non-null     object\n",
      " 4   Job Title                         15 non-null     object\n",
      " 5   Department                        15 non-null     object\n",
      " 6   Date Survey Completed             15 non-null     object\n",
      " 7   Job Satisfaction                  15 non-null     object\n",
      " 8   Work-Life Balance                 15 non-null     object\n",
      " 9   Management Support                15 non-null     object\n",
      " 10  Team Collaboration                15 non-null     object\n",
      " 11  Workload Fairness                 15 non-null     object\n",
      " 12  Career Development Opportunities  15 non-null     object\n",
      " 13  Workplace Inclusivity             15 non-null     object\n",
      " 14  Company Communication             15 non-null     object\n",
      " 15  Compensation Satisfaction         15 non-null     object\n",
      " 16  Job Security                      15 non-null     object\n",
      " 17  Overall Engagement                15 non-null     object\n",
      "dtypes: object(18)\n",
      "memory usage: 2.2+ KB\n"
     ]
    }
   ],
   "source": [
    "data.info()"
   ]
  },
  {
   "cell_type": "code",
   "execution_count": 5,
   "id": "731b0af4",
   "metadata": {},
   "outputs": [],
   "source": [
    "# Likert Scale Mapping"
   ]
  },
  {
   "cell_type": "code",
   "execution_count": 6,
   "id": "8314af9e",
   "metadata": {},
   "outputs": [],
   "source": [
    "likert_scale ={\n",
    "    'Strongly Disagree' : 1,\n",
    "    'Disagree' : 2,\n",
    "    'Neutral' : 3,\n",
    "    'Agree' : 4,\n",
    "    'Strongly Agree' : 5\n",
    "}"
   ]
  },
  {
   "cell_type": "code",
   "execution_count": 7,
   "id": "f82fb2c7",
   "metadata": {},
   "outputs": [],
   "source": [
    "likert_cols = ['Job Satisfaction', 'Work-Life Balance', 'Management Support', 'Team Collaboration', 'Workload Fairness',\n",
    "              'Career Development Opportunities', 'Workplace Inclusivity', 'Company Communication',\n",
    "              'Compensation Satisfaction', 'Job Security', 'Overall Engagement']"
   ]
  },
  {
   "cell_type": "code",
   "execution_count": 8,
   "id": "bb1451d1",
   "metadata": {},
   "outputs": [],
   "source": [
    "#Applying the likert scale mapping to convert those columns into numerical values\n",
    "data[likert_cols] = data[likert_cols].replace(likert_scale)"
   ]
  },
  {
   "cell_type": "code",
   "execution_count": 9,
   "id": "eca98d1a",
   "metadata": {},
   "outputs": [
    {
     "data": {
      "text/html": [
       "<div>\n",
       "<style scoped>\n",
       "    .dataframe tbody tr th:only-of-type {\n",
       "        vertical-align: middle;\n",
       "    }\n",
       "\n",
       "    .dataframe tbody tr th {\n",
       "        vertical-align: top;\n",
       "    }\n",
       "\n",
       "    .dataframe thead th {\n",
       "        text-align: right;\n",
       "    }\n",
       "</style>\n",
       "<table border=\"1\" class=\"dataframe\">\n",
       "  <thead>\n",
       "    <tr style=\"text-align: right;\">\n",
       "      <th></th>\n",
       "      <th>Job Satisfaction</th>\n",
       "      <th>Work-Life Balance</th>\n",
       "      <th>Management Support</th>\n",
       "      <th>Team Collaboration</th>\n",
       "      <th>Workload Fairness</th>\n",
       "      <th>Career Development Opportunities</th>\n",
       "      <th>Workplace Inclusivity</th>\n",
       "      <th>Company Communication</th>\n",
       "      <th>Compensation Satisfaction</th>\n",
       "      <th>Job Security</th>\n",
       "      <th>Overall Engagement</th>\n",
       "    </tr>\n",
       "  </thead>\n",
       "  <tbody>\n",
       "    <tr>\n",
       "      <th>0</th>\n",
       "      <td>2</td>\n",
       "      <td>5</td>\n",
       "      <td>3</td>\n",
       "      <td>3</td>\n",
       "      <td>3</td>\n",
       "      <td>2</td>\n",
       "      <td>4</td>\n",
       "      <td>5</td>\n",
       "      <td>5</td>\n",
       "      <td>4</td>\n",
       "      <td>5</td>\n",
       "    </tr>\n",
       "    <tr>\n",
       "      <th>1</th>\n",
       "      <td>4</td>\n",
       "      <td>1</td>\n",
       "      <td>5</td>\n",
       "      <td>3</td>\n",
       "      <td>3</td>\n",
       "      <td>2</td>\n",
       "      <td>3</td>\n",
       "      <td>3</td>\n",
       "      <td>3</td>\n",
       "      <td>4</td>\n",
       "      <td>3</td>\n",
       "    </tr>\n",
       "    <tr>\n",
       "      <th>2</th>\n",
       "      <td>3</td>\n",
       "      <td>1</td>\n",
       "      <td>4</td>\n",
       "      <td>2</td>\n",
       "      <td>5</td>\n",
       "      <td>4</td>\n",
       "      <td>4</td>\n",
       "      <td>1</td>\n",
       "      <td>3</td>\n",
       "      <td>5</td>\n",
       "      <td>5</td>\n",
       "    </tr>\n",
       "    <tr>\n",
       "      <th>3</th>\n",
       "      <td>3</td>\n",
       "      <td>4</td>\n",
       "      <td>4</td>\n",
       "      <td>1</td>\n",
       "      <td>1</td>\n",
       "      <td>5</td>\n",
       "      <td>4</td>\n",
       "      <td>1</td>\n",
       "      <td>1</td>\n",
       "      <td>4</td>\n",
       "      <td>3</td>\n",
       "    </tr>\n",
       "    <tr>\n",
       "      <th>4</th>\n",
       "      <td>4</td>\n",
       "      <td>5</td>\n",
       "      <td>2</td>\n",
       "      <td>3</td>\n",
       "      <td>1</td>\n",
       "      <td>2</td>\n",
       "      <td>2</td>\n",
       "      <td>2</td>\n",
       "      <td>1</td>\n",
       "      <td>3</td>\n",
       "      <td>2</td>\n",
       "    </tr>\n",
       "  </tbody>\n",
       "</table>\n",
       "</div>"
      ],
      "text/plain": [
       "   Job Satisfaction  Work-Life Balance  Management Support  \\\n",
       "0                 2                  5                   3   \n",
       "1                 4                  1                   5   \n",
       "2                 3                  1                   4   \n",
       "3                 3                  4                   4   \n",
       "4                 4                  5                   2   \n",
       "\n",
       "   Team Collaboration  Workload Fairness  Career Development Opportunities  \\\n",
       "0                   3                  3                                 2   \n",
       "1                   3                  3                                 2   \n",
       "2                   2                  5                                 4   \n",
       "3                   1                  1                                 5   \n",
       "4                   3                  1                                 2   \n",
       "\n",
       "   Workplace Inclusivity  Company Communication  Compensation Satisfaction  \\\n",
       "0                      4                      5                          5   \n",
       "1                      3                      3                          3   \n",
       "2                      4                      1                          3   \n",
       "3                      4                      1                          1   \n",
       "4                      2                      2                          1   \n",
       "\n",
       "   Job Security  Overall Engagement  \n",
       "0             4                   5  \n",
       "1             4                   3  \n",
       "2             5                   5  \n",
       "3             4                   3  \n",
       "4             3                   2  "
      ]
     },
     "execution_count": 9,
     "metadata": {},
     "output_type": "execute_result"
    }
   ],
   "source": [
    "data[likert_cols].head()"
   ]
  },
  {
   "cell_type": "markdown",
   "id": "fbe8ace6",
   "metadata": {},
   "source": [
    "## Descriptive Statistics"
   ]
  },
  {
   "cell_type": "code",
   "execution_count": 11,
   "id": "dbf93328",
   "metadata": {},
   "outputs": [],
   "source": [
    "# Calculate mean, median, mode, standard deviation\n",
    "def desc_stat(column):\n",
    "    return{\n",
    "        'mean' : data[column].mean(),\n",
    "        'median' : data[column].median(),\n",
    "        'mode' : data[column].mode(),\n",
    "        'std_dev' : data[column].std()\n",
    "    }"
   ]
  },
  {
   "cell_type": "code",
   "execution_count": 12,
   "id": "305e9dc0",
   "metadata": {},
   "outputs": [],
   "source": [
    "#Descriptive statistics for overall engagement and job satisfaction\n",
    "overall_eng_stats = desc_stat('Overall Engagement')\n",
    "job_satisfication_stats = desc_stat('Job Satisfaction')"
   ]
  },
  {
   "cell_type": "code",
   "execution_count": 13,
   "id": "e93ad8fa",
   "metadata": {},
   "outputs": [
    {
     "name": "stdout",
     "output_type": "stream",
     "text": [
      "Overall Engagement Stats:  {'mean': 3.4, 'median': 3.0, 'mode': 0    3\n",
      "1    5\n",
      "Name: Overall Engagement, dtype: int64, 'std_dev': 1.2983506020002016}\n",
      "Job Satisfication Stats:  {'mean': 3.0, 'median': 3.0, 'mode': 0    2\n",
      "1    4\n",
      "Name: Job Satisfaction, dtype: int64, 'std_dev': 1.3093073414159542}\n"
     ]
    }
   ],
   "source": [
    "print(\"Overall Engagement Stats: \", overall_eng_stats)\n",
    "print(\"Job Satisfication Stats: \", job_satisfication_stats)"
   ]
  },
  {
   "cell_type": "markdown",
   "id": "8560b3b7",
   "metadata": {},
   "source": [
    "The average Overall Engagement score is 3.4 out of 5, while the Job Satisfaction score is 3.0 out of 5. This suggests a \n",
    "moderate level of engagement and satisfaction across the organization."
   ]
  },
  {
   "cell_type": "code",
   "execution_count": 15,
   "id": "8caeec24",
   "metadata": {},
   "outputs": [
    {
     "name": "stdout",
     "output_type": "stream",
     "text": [
      "Job Satisfaction and Overall Engagement by Age Bracket: \n",
      "             Job Satisfaction  Overall Engagement\n",
      "Age Bracket                                      \n",
      "18-24                3.428571            3.428571\n",
      "25-34                3.000000            3.666667\n",
      "35-44                2.000000            2.500000\n",
      "45-54                2.666667            3.666667\n"
     ]
    }
   ],
   "source": [
    "age_grp_stats = data.groupby('Age Bracket')[['Job Satisfaction', 'Overall Engagement']].mean()\n",
    "print('Job Satisfaction and Overall Engagement by Age Bracket: ')\n",
    "print(age_grp_stats)"
   ]
  },
  {
   "cell_type": "markdown",
   "id": "e0e5fa52",
   "metadata": {},
   "source": [
    "Employees in the 18-24 age bracket report the highest Job Satisfaction (3.4) and Overall Engagement (3.4), while those\n",
    "in the 35-44 bracket report the lowest scores (Job Satisfaction: 2.0, Engagement: 2.5). This indicates a potential need\n",
    "to focus on mid-career professionals."
   ]
  },
  {
   "cell_type": "code",
   "execution_count": 16,
   "id": "748dd0cc",
   "metadata": {},
   "outputs": [
    {
     "name": "stdout",
     "output_type": "stream",
     "text": [
      "Job Satisfaction and Overall Engagement by Department: \n",
      "                     Job Satisfaction  Overall Engagement\n",
      "Department                                               \n",
      "Consulting                   3.000000            4.000000\n",
      "Design                       5.000000            1.000000\n",
      "Finance                      4.000000            5.000000\n",
      "HR                           4.000000            3.500000\n",
      "IT                           1.000000            2.000000\n",
      "Operations                   2.000000            3.000000\n",
      "Product Development          2.666667            3.666667\n",
      "Sales                        2.750000            3.500000\n"
     ]
    }
   ],
   "source": [
    "depart_stats = data.groupby('Department')[['Job Satisfaction', 'Overall Engagement']].mean()\n",
    "print('Job Satisfaction and Overall Engagement by Department: ')\n",
    "print(depart_stats)"
   ]
  },
  {
   "cell_type": "markdown",
   "id": "baf9cd8c",
   "metadata": {},
   "source": [
    "The department-wise analysis reveals that Finance has the highest Overall Engagement (5.0) and Job Satisfaction (4.0),\n",
    "whereas IT shows lower scores in both categories, with Overall Engagement at 2.0 and Job Satisfaction at 1.0."
   ]
  },
  {
   "cell_type": "markdown",
   "id": "28f5cccd",
   "metadata": {},
   "source": [
    "## Inferential Statistics"
   ]
  },
  {
   "cell_type": "markdown",
   "id": "dd8cd8bd",
   "metadata": {},
   "source": [
    "### Hypothesis testing "
   ]
  },
  {
   "cell_type": "code",
   "execution_count": 31,
   "id": "2186c6b8",
   "metadata": {},
   "outputs": [],
   "source": [
    "# comparing Job Satisfaction b/w Two Departments(Product development and HR)\n",
    "from scipy import stats\n",
    "from scipy.stats  import ttest_ind\n",
    "dept1 = data[data['Department'] == 'Product Development']['Job Satisfaction']\n",
    "dept2 = data[data['Department'] == 'HR']['Job Satisfaction']"
   ]
  },
  {
   "cell_type": "code",
   "execution_count": 22,
   "id": "163ae40e",
   "metadata": {},
   "outputs": [],
   "source": [
    "# Perform an independent t-test\n",
    "t_stat, p_val = ttest_ind(dept1, dept2)"
   ]
  },
  {
   "cell_type": "code",
   "execution_count": 23,
   "id": "aa2eb409",
   "metadata": {},
   "outputs": [
    {
     "name": "stdout",
     "output_type": "stream",
     "text": [
      "t-stats: -1.17108008753824, p_value: 0.32612059789896747\n"
     ]
    }
   ],
   "source": [
    "print(f\"t-stats: {t_stat}, p_value: {p_val}\")"
   ]
  },
  {
   "cell_type": "code",
   "execution_count": 26,
   "id": "b03e1e89",
   "metadata": {},
   "outputs": [
    {
     "name": "stdout",
     "output_type": "stream",
     "text": [
      "Failed to reject the NULL hypothesis. There is no significant difference in Job Satisfaction between two departments\n"
     ]
    }
   ],
   "source": [
    "# result\n",
    "if p_val < 0.05:\n",
    "    print('Reject the NULL hypothesis. There is a significant difference in Job Satisfaction between two departments')\n",
    "else:\n",
    "    print('Failed to reject the NULL hypothesis. There is no significant difference in Job Satisfaction between two departments')"
   ]
  },
  {
   "cell_type": "markdown",
   "id": "14df20fc",
   "metadata": {},
   "source": [
    "A t-test comparing Job Satisfaction between Product Development and HR departments resulted in a p-value of 0.32, indicating\n",
    "no statistically significant difference in satisfaction between the two departments."
   ]
  },
  {
   "cell_type": "markdown",
   "id": "c92ef5e5",
   "metadata": {},
   "source": [
    "### Correlation Analysis - WorkLife Balance vs Overall Engagement"
   ]
  },
  {
   "cell_type": "code",
   "execution_count": 33,
   "id": "fea8024f",
   "metadata": {},
   "outputs": [],
   "source": [
    "from scipy.stats import pearsonr"
   ]
  },
  {
   "cell_type": "code",
   "execution_count": 34,
   "id": "0e136dd3",
   "metadata": {},
   "outputs": [],
   "source": [
    "# Calculating the pearson correlation coefficient between WorkLife Balance and Overall Engagement\n",
    "corr_coeff, p_value = pearsonr(data['Work-Life Balance'], data['Overall Engagement']) "
   ]
  },
  {
   "cell_type": "code",
   "execution_count": 35,
   "id": "e05930de",
   "metadata": {},
   "outputs": [
    {
     "name": "stdout",
     "output_type": "stream",
     "text": [
      "Pearson correlation coefficient: -0.36104082040916596, p_value: 0.18612659993280437\n"
     ]
    }
   ],
   "source": [
    "print(f\"Pearson correlation coefficient: {corr_coeff}, p_value: {p_value}\")"
   ]
  },
  {
   "cell_type": "code",
   "execution_count": 37,
   "id": "89e2e7a7",
   "metadata": {},
   "outputs": [
    {
     "name": "stdout",
     "output_type": "stream",
     "text": [
      "There is no significant correlation between Work-life Balance and Overall Engagement\n"
     ]
    }
   ],
   "source": [
    "if p_value < 0.05:\n",
    "    print(f\"There is a significant correlation (r = {corr_coeff}) between Work-Life Balance and Overall Engagement\")\n",
    "else:\n",
    "    print(\"There is no significant correlation between Work-life Balance and Overall Engagement\")"
   ]
  },
  {
   "cell_type": "markdown",
   "id": "e1daedf1",
   "metadata": {},
   "source": [
    "The correlation analysis shows a weak negative correlation (r = -0.36) between Work-Life Balance and Overall Engagement,\n",
    "and the p-value (0.18) suggests that this correlation is not statistically significant. However, departments with better\n",
    "work-life balance (e.g., HR) generally have higher engagement."
   ]
  },
  {
   "cell_type": "code",
   "execution_count": null,
   "id": "61f1584f",
   "metadata": {},
   "outputs": [],
   "source": []
  }
 ],
 "metadata": {
  "kernelspec": {
   "display_name": "Python 3 (ipykernel)",
   "language": "python",
   "name": "python3"
  },
  "language_info": {
   "codemirror_mode": {
    "name": "ipython",
    "version": 3
   },
   "file_extension": ".py",
   "mimetype": "text/x-python",
   "name": "python",
   "nbconvert_exporter": "python",
   "pygments_lexer": "ipython3",
   "version": "3.11.3"
  }
 },
 "nbformat": 4,
 "nbformat_minor": 5
}
